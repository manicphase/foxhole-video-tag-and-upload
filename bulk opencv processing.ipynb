{
 "cells": [
  {
   "cell_type": "code",
   "execution_count": 8,
   "id": "327324d4-16c7-4ba6-a717-3a87b2133df7",
   "metadata": {},
   "outputs": [],
   "source": [
    "from src.tesseractoperations import TesseractProcessor\n",
    "from src.opencvfilters import OpenCVFilters\n",
    "import glob\n",
    "import json\n",
    "import cv2\n",
    "\n",
    "filter = OpenCVFilters(json.loads(open(\"foxhole_greentext.json\", \"r\").read()))\n",
    "\n",
    "files = glob.glob(\"processed/*.png\")"
   ]
  },
  {
   "cell_type": "code",
   "execution_count": 10,
   "id": "c833b2c7-4279-4efd-8606-86e9f29139de",
   "metadata": {},
   "outputs": [],
   "source": [
    "img = filter.run_filters(cv2.imread(files[0]))"
   ]
  },
  {
   "cell_type": "code",
   "execution_count": 12,
   "id": "62df0cdc-fcd8-4205-a81e-334d7d99bf98",
   "metadata": {},
   "outputs": [
    {
     "data": {
      "text/plain": [
       "True"
      ]
     },
     "execution_count": 12,
     "metadata": {},
     "output_type": "execute_result"
    }
   ],
   "source": [
    "cv2.imwrite(\"out.png\", img)"
   ]
  },
  {
   "cell_type": "code",
   "execution_count": 14,
   "id": "a9630ef9-d214-4453-a00b-d0f481582d0d",
   "metadata": {},
   "outputs": [],
   "source": [
    "for f in files:\n",
    "    name = f.split(\"/\")[1]\n",
    "    img = filter.run_filters(cv2.imread(f))\n",
    "    cv2.imwrite(f'filtered/{name}', img)"
   ]
  },
  {
   "cell_type": "code",
   "execution_count": null,
   "id": "38b47339-edf8-4bf0-bd5a-3e71bd5ac062",
   "metadata": {},
   "outputs": [],
   "source": []
  }
 ],
 "metadata": {
  "kernelspec": {
   "display_name": "Python 3 (ipykernel)",
   "language": "python",
   "name": "python3"
  },
  "language_info": {
   "codemirror_mode": {
    "name": "ipython",
    "version": 3
   },
   "file_extension": ".py",
   "mimetype": "text/x-python",
   "name": "python",
   "nbconvert_exporter": "python",
   "pygments_lexer": "ipython3",
   "version": "3.10.12"
  }
 },
 "nbformat": 4,
 "nbformat_minor": 5
}
